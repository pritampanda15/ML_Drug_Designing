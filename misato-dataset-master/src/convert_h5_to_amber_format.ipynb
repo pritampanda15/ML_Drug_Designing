{
 "cells": [
  {
   "cell_type": "markdown",
   "id": "48f164d5",
   "metadata": {},
   "source": [
    "# Conversion of coordinates\n",
    "### Download and uncompressing of rst/top files\n",
    "We will download the restart and topology files from Zenodo, extract everything and convert the coordinates from MD.hdf5 to netcdf amber file type. "
   ]
  },
  {
   "cell_type": "code",
   "execution_count": 19,
   "id": "5607a1b0",
   "metadata": {},
   "outputs": [],
   "source": [
    "import os\n",
    "import urllib.request\n",
    "import tarfile\n",
    "import h5py\n",
    "import pytraj as pt\n",
    "import gzip, shutil\n",
    "from data.processing.h5_to_traj import get_entries, open_restart_file, create_new_traj, create_topology"
   ]
  },
  {
   "cell_type": "markdown",
   "id": "d5c01459",
   "metadata": {},
   "source": [
    "Download the rst and top files from zenodo."
   ]
  },
  {
   "cell_type": "code",
   "execution_count": null,
   "id": "7262da8c",
   "metadata": {
    "scrolled": true
   },
   "outputs": [],
   "source": [
    "urllib.request.urlretrieve(\"https://zenodo.org/record/7711953/files/parameter_restart_files_MD.tar.gz\", \"../data/MD/parameter_restart_files_MD.tar.gz\")"
   ]
  },
  {
   "cell_type": "markdown",
   "id": "3b394a12",
   "metadata": {},
   "source": [
    "Unzip tarfile "
   ]
  },
  {
   "cell_type": "code",
   "execution_count": null,
   "id": "a5a4c17c",
   "metadata": {},
   "outputs": [],
   "source": [
    "tar = tarfile.open(\"../data/MD/parameter_restart_files_MD.tar.gz\", \"r:gz\")\n",
    "tar.extractall()\n",
    "tar.close()"
   ]
  },
  {
   "cell_type": "markdown",
   "id": "f913a522",
   "metadata": {},
   "source": [
    "We also have to unzip the topology file for each struct. See e.g. 10gs:"
   ]
  },
  {
   "cell_type": "code",
   "execution_count": null,
   "id": "3371ccf8",
   "metadata": {},
   "outputs": [],
   "source": [
    "with gzip.open('../data/MD/parameter_restart_files_MD/10gs/production.top.gz', 'rb') as f_in:\n",
    "    with open('../data/MD/parameter_restart_files_MD/10gs/production.top', 'wb') as f_out:\n",
    "        shutil.copyfileobj(f_in, f_out)"
   ]
  },
  {
   "cell_type": "markdown",
   "id": "4097c27a",
   "metadata": {},
   "source": [
    "## Conversion from h5_coordinates to nc/top"
   ]
  },
  {
   "cell_type": "markdown",
   "id": "82f8cf73",
   "metadata": {},
   "source": [
    "The following conversion will also work without downloading the whole rst/top file.\n",
    "First we open the rst/top files as pytraj.Trajectory."
   ]
  },
  {
   "cell_type": "code",
   "execution_count": 4,
   "id": "0c9d961d",
   "metadata": {},
   "outputs": [],
   "source": [
    "traj = open_restart_file(\"11gs\", \"../data/MD/restart/\")"
   ]
  },
  {
   "cell_type": "markdown",
   "id": "4ba61df1",
   "metadata": {},
   "source": [
    "We now open the h5_coordinates"
   ]
  },
  {
   "cell_type": "code",
   "execution_count": 10,
   "id": "ca657ad5",
   "metadata": {},
   "outputs": [],
   "source": [
    "f = h5py.File(\"../data/MD/h5_files/tiny_md.hdf5\", 'r')\n",
    "h5_coordinates = get_entries(\"11GS\", f)"
   ]
  },
  {
   "cell_type": "markdown",
   "id": "f9465b23",
   "metadata": {},
   "source": [
    "With the given mask we can strip all waters and ions from the trajectory. We then append the h5_coordinates as frames to the stripped pytraj.Trajectory."
   ]
  },
  {
   "cell_type": "code",
   "execution_count": 11,
   "id": "474fb665",
   "metadata": {},
   "outputs": [],
   "source": [
    "mask = \"!:WAT,Na+,Cl-\"\n",
    "new_traj = create_new_traj(traj[mask], h5_coordinates)"
   ]
  },
  {
   "cell_type": "markdown",
   "id": "8c721720",
   "metadata": {},
   "source": [
    "Finally we can write the pytraj.Trajectory with h5 coordinates to AMBER trajectory file and topology file."
   ]
  },
  {
   "cell_type": "code",
   "execution_count": 17,
   "id": "4df0765b",
   "metadata": {},
   "outputs": [],
   "source": [
    "pt.write_traj(\"../data/MD/restart/h5_crds.nc\", new_traj, overwrite=True)\n",
    "create_topology(\"../data/MD/restart/h5_crds.top\",  os.path.join(\"../data/MD/restart/11gs\",\"production.top\"), mask)"
   ]
  },
  {
   "cell_type": "code",
   "execution_count": null,
   "id": "9020d53f",
   "metadata": {},
   "outputs": [],
   "source": []
  }
 ],
 "metadata": {
  "kernelspec": {
   "display_name": "Python 3 (ipykernel)",
   "language": "python",
   "name": "python3"
  },
  "language_info": {
   "codemirror_mode": {
    "name": "ipython",
    "version": 3
   },
   "file_extension": ".py",
   "mimetype": "text/x-python",
   "name": "python",
   "nbconvert_exporter": "python",
   "pygments_lexer": "ipython3",
   "version": "3.10.9"
  }
 },
 "nbformat": 4,
 "nbformat_minor": 5
}
